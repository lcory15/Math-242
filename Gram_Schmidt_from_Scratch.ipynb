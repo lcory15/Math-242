{
  "nbformat": 4,
  "nbformat_minor": 0,
  "metadata": {
    "colab": {
      "provenance": [],
      "authorship_tag": "ABX9TyM1/aJDgtyOjy17j3Owun4q",
      "include_colab_link": true
    },
    "kernelspec": {
      "name": "python3",
      "display_name": "Python 3"
    },
    "language_info": {
      "name": "python"
    }
  },
  "cells": [
    {
      "cell_type": "markdown",
      "metadata": {
        "id": "view-in-github",
        "colab_type": "text"
      },
      "source": [
        "<a href=\"https://colab.research.google.com/github/lcory15/Math-242/blob/main/Gram_Schmidt_from_Scratch.ipynb\" target=\"_parent\"><img src=\"https://colab.research.google.com/assets/colab-badge.svg\" alt=\"Open In Colab\"/></a>"
      ]
    },
    {
      "cell_type": "code",
      "execution_count": 1,
      "metadata": {
        "id": "YjbUyLwKMiQz"
      },
      "outputs": [],
      "source": [
        "import matplotlib.pyplot as plt\n",
        "from sympy import Poly\n",
        "import sympy as sym\n",
        "import numpy as np\n",
        "from numpy import c_\n",
        "\n",
        "# We'll specify that x and t are variables:\n",
        "x, t = sym.symbols('x, t')\n",
        "\n",
        "ll = \"loaded\""
      ]
    },
    {
      "cell_type": "code",
      "source": [
        "#Create a vector\n",
        "r1 = np.array([3,0,3,0])\n",
        "r1"
      ],
      "metadata": {
        "colab": {
          "base_uri": "https://localhost:8080/"
        },
        "id": "1U86VaStNff4",
        "outputId": "0d667b67-5822-4f62-d1a6-84f85490a31a"
      },
      "execution_count": 6,
      "outputs": [
        {
          "output_type": "execute_result",
          "data": {
            "text/plain": [
              "array([3, 0, 3, 0])"
            ]
          },
          "metadata": {},
          "execution_count": 6
        }
      ]
    },
    {
      "cell_type": "code",
      "source": [
        "#Vector dot product\n",
        "r1.dot(r1)"
      ],
      "metadata": {
        "colab": {
          "base_uri": "https://localhost:8080/"
        },
        "id": "7SmgyZJrOSjW",
        "outputId": "a0abb6e1-d4ef-483a-87e7-9e158017c6cf"
      },
      "execution_count": 7,
      "outputs": [
        {
          "output_type": "execute_result",
          "data": {
            "text/plain": [
              "18"
            ]
          },
          "metadata": {},
          "execution_count": 7
        }
      ]
    },
    {
      "cell_type": "code",
      "source": [
        "np.sqrt(9)"
      ],
      "metadata": {
        "colab": {
          "base_uri": "https://localhost:8080/"
        },
        "id": "_RWjC4CEPZ2X",
        "outputId": "20bddeb9-a4ef-4e8a-814e-c1e0f9ca3c5d"
      },
      "execution_count": 9,
      "outputs": [
        {
          "output_type": "execute_result",
          "data": {
            "text/plain": [
              "3.0"
            ]
          },
          "metadata": {},
          "execution_count": 9
        }
      ]
    },
    {
      "cell_type": "code",
      "source": [
        "#Magnitude of a vector\n",
        "np.sqrt(r1.dot(r1))"
      ],
      "metadata": {
        "colab": {
          "base_uri": "https://localhost:8080/"
        },
        "id": "lJjHO36OPr0n",
        "outputId": "3637e54b-92dd-498e-c2a5-90d21da07fee"
      },
      "execution_count": 10,
      "outputs": [
        {
          "output_type": "execute_result",
          "data": {
            "text/plain": [
              "4.242640687119285"
            ]
          },
          "metadata": {},
          "execution_count": 10
        }
      ]
    },
    {
      "cell_type": "markdown",
      "source": [
        "#Gram-Schmidt Orthonormalization Process\n",
        "\n",
        "We'll use the Gram-Schmidt Orthonormalization process to find orthogonal vectors in $R^4$"
      ],
      "metadata": {
        "id": "5Yem1WcwQIWJ"
      }
    },
    {
      "cell_type": "markdown",
      "source": [
        "##Our \"Random\" Vectors:"
      ],
      "metadata": {
        "id": "X4Gvrpc0QgM_"
      }
    },
    {
      "cell_type": "code",
      "source": [
        "r1 = np.array([3,0,3,0])\n",
        "r2 = np.array([3,2,3,3])\n",
        "r3 = np.array([-7,-4,-5,-6])\n",
        "r4 = np.array([-7,-3,-11,2])"
      ],
      "metadata": {
        "id": "h0BLXXSQQqII"
      },
      "execution_count": 11,
      "outputs": []
    },
    {
      "cell_type": "markdown",
      "source": [
        "## Process $r_1$"
      ],
      "metadata": {
        "id": "4M3_vQNERM5I"
      }
    },
    {
      "cell_type": "code",
      "source": [
        "#Choose the vectorand subtract off the \"nice\" orthogonal pieces:\n",
        "t1 = r1\n",
        "# Find the size of t1:\n",
        "m = np.sqrt(t1.dot(t1))\n",
        "# Create the nice orthonormal vector u1:\n",
        "u1 = (1/m)*t1\n",
        "u1"
      ],
      "metadata": {
        "colab": {
          "base_uri": "https://localhost:8080/"
        },
        "id": "-KEg8d81RUFU",
        "outputId": "24f2b4f3-5619-42f3-d6f7-973e2417f9e8"
      },
      "execution_count": 14,
      "outputs": [
        {
          "output_type": "execute_result",
          "data": {
            "text/plain": [
              "array([0.70710678, 0.        , 0.70710678, 0.        ])"
            ]
          },
          "metadata": {},
          "execution_count": 14
        }
      ]
    },
    {
      "cell_type": "markdown",
      "source": [
        "## Process $r_2$"
      ],
      "metadata": {
        "id": "cfwCSWdrSeYy"
      }
    },
    {
      "cell_type": "code",
      "source": [
        "#Choose the vectorand subtract off the \"nice\" orthogonal pieces:\n",
        "t2 = r2 - (u1.dot(r2))*u1\n",
        "# Find the size of t2:\n",
        "m = np.sqrt(t2.dot(t2))\n",
        "m\n",
        "# Create the nice orthonormal vector u2:\n",
        "u2 = (1/m)*t2\n",
        "u2\n",
        "\n",
        "#Essentially: [0, .55, 0, .83]\n",
        "#should be: [0, 2/sqrt(13), 0, 3/sqrt(13)]"
      ],
      "metadata": {
        "colab": {
          "base_uri": "https://localhost:8080/"
        },
        "id": "U0HtRP3jSj_Y",
        "outputId": "155876d4-17f3-4970-ffe1-02583c15e297"
      },
      "execution_count": 15,
      "outputs": [
        {
          "output_type": "execute_result",
          "data": {
            "text/plain": [
              "array([-1.23168186e-16,  5.54700196e-01, -1.23168186e-16,  8.32050294e-01])"
            ]
          },
          "metadata": {},
          "execution_count": 15
        }
      ]
    },
    {
      "cell_type": "markdown",
      "source": [
        "##Process $r_3$"
      ],
      "metadata": {
        "id": "m23TN9hKTvEm"
      }
    },
    {
      "cell_type": "code",
      "source": [
        "#Choose the vectorand subtract off the \"nice\" orthogonal pieces:\n",
        "t3 = r3 - (u1.dot(r3))*u1 - (u2.dot(r3))*u2\n",
        "# Find the size of t3:\n",
        "m = np.sqrt(t3.dot(t3))\n",
        "m\n",
        "# Create the nice orthonormal vector u3:\n",
        "u3 = (1/m)*t3\n",
        "u3\n",
        "\n",
        "#Essentially: [-.71, 0, .71, 0]\n",
        "#should be: [-1/sqrt(2), 0, 1/sqrt(2), 0]"
      ],
      "metadata": {
        "colab": {
          "base_uri": "https://localhost:8080/"
        },
        "id": "BIE5FW1iTzY6",
        "outputId": "284777e2-dcbb-4b66-d0a3-a01e50f275bb"
      },
      "execution_count": 16,
      "outputs": [
        {
          "output_type": "execute_result",
          "data": {
            "text/plain": [
              "array([-7.07106781e-01, -3.14018492e-16,  7.07106781e-01, -6.28036983e-16])"
            ]
          },
          "metadata": {},
          "execution_count": 16
        }
      ]
    },
    {
      "cell_type": "markdown",
      "source": [
        "##Process $r_4$"
      ],
      "metadata": {
        "id": "53pxwKa4UcWi"
      }
    },
    {
      "cell_type": "code",
      "source": [
        "#Choose the vectorand subtract off the \"nice\" orthogonal pieces:\n",
        "t4 = r4 - (u1.dot(r4))*u1 - (u2.dot(r4))*u2 - (u3.dot(r4))*u3\n",
        "# Find the size of t4:\n",
        "m = np.sqrt(t4.dot(t4))\n",
        "m\n",
        "# Create the nice orthonormal vector u4:\n",
        "u4 = (1/m)*t4\n",
        "u4\n",
        "\n",
        "#Essentially: [0, -.83, 0, .55]\n",
        "#should be: [0, -3/sqrt(13), 0, 2/sqrt(13)]"
      ],
      "metadata": {
        "colab": {
          "base_uri": "https://localhost:8080/"
        },
        "id": "EYZ3gdabUfO2",
        "outputId": "a423505e-8639-48e9-e42a-700722872015"
      },
      "execution_count": 17,
      "outputs": [
        {
          "output_type": "execute_result",
          "data": {
            "text/plain": [
              "array([ 0.        , -0.83205029,  0.        ,  0.5547002 ])"
            ]
          },
          "metadata": {},
          "execution_count": 17
        }
      ]
    },
    {
      "cell_type": "code",
      "source": [
        "print(\"r1 = \")\n",
        "print()"
      ],
      "metadata": {
        "id": "D4jvluraWQMZ"
      },
      "execution_count": null,
      "outputs": []
    }
  ]
}