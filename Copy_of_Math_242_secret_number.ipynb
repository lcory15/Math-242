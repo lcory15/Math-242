{
  "nbformat": 4,
  "nbformat_minor": 0,
  "metadata": {
    "colab": {
      "provenance": [],
      "include_colab_link": true
    },
    "kernelspec": {
      "name": "python3",
      "display_name": "Python 3"
    }
  },
  "cells": [
    {
      "cell_type": "markdown",
      "metadata": {
        "id": "view-in-github",
        "colab_type": "text"
      },
      "source": [
        "<a href=\"https://colab.research.google.com/github/lcory15/Math-242/blob/main/Copy_of_Math_242_secret_number.ipynb\" target=\"_parent\"><img src=\"https://colab.research.google.com/assets/colab-badge.svg\" alt=\"Open In Colab\"/></a>"
      ]
    },
    {
      "cell_type": "markdown",
      "metadata": {
        "id": "Ry_o-kLL_-wf"
      },
      "source": [
        "# Load the preliminary code"
      ]
    },
    {
      "cell_type": "code",
      "metadata": {
        "id": "dhOLtwrRRc9S"
      },
      "source": [
        "import matplotlib.pyplot as plt\n",
        "from sympy import Poly\n",
        "import sympy as sym\n",
        "import numpy as np\n",
        "from numpy import c_\n",
        "\n",
        "# We'll specify that x and t are variables:\n",
        "x, t = sym.symbols('x, t')\n",
        "\n",
        "ll = \"loaded\""
      ],
      "execution_count": 1,
      "outputs": []
    },
    {
      "cell_type": "code",
      "metadata": {
        "id": "AHRXKhal_Wcj",
        "colab": {
          "base_uri": "https://localhost:8080/"
        },
        "outputId": "a29ccd98-8012-475b-8a9b-ae756962fc15"
      },
      "source": [
        "lll = \" correctly!\"\n",
        "\n",
        "def rref(matrix):\n",
        "    A = np.array(matrix, dtype=np.float64)\n",
        "    \n",
        "    r = 0 #row\n",
        "    c = 0 #column\n",
        "\n",
        "    (maxr, maxc) = A.shape\n",
        "\n",
        "    prev_row_pivot = -1   # The previous row with a leading term:\n",
        "    tmp_pivot_row = -1\n",
        "    this_pivot_row = -1\n",
        "\n",
        "    for c in range(maxc):  # go through each column\n",
        "      tmp_pivot_row = -1  # reset the tmp pivot row\n",
        "      this_pivot_row = -1  # reset this pivot row\n",
        "      for r in range(maxr):  # Find the leading term in this column below prev_row_pivot\n",
        "        if ((r > prev_row_pivot) and (A[r][c] != 0.0)):\n",
        "          tmp_pivot_row = r  # find the new pivot row\n",
        "      if (tmp_pivot_row > -1):  # we found a candidate for the leading term:\n",
        "        #swap row this_pivot_row with (prev_row_pivot + 1)\n",
        "        A[[tmp_pivot_row, prev_row_pivot+1]] = A[[prev_row_pivot + 1, tmp_pivot_row]]\n",
        "        #set this_pivot_row to prev_row_pivot+1\n",
        "        this_pivot_row = prev_row_pivot + 1\n",
        "        #Now, normalize the row based on the pivot value:\n",
        "        A[ this_pivot_row ] = A[ this_pivot_row ] / A[ this_pivot_row ][c]\n",
        "        #Then, use this row to force 0's above and below the pivot entry:\n",
        "        #subtract multiples of of the this_pivot_row row from the others\n",
        "        for r_ in range(len(A)):\n",
        "            if r_ != this_pivot_row:\n",
        "                A[r_] = A[r_] - A[this_pivot_row] * A[r_][c] / A[this_pivot_row][c]\n",
        "        prev_row_pivot = this_pivot_row\n",
        "    return A    \n",
        "    \n",
        "    \n",
        "\n",
        "print(\">> The page \", ll, lll)"
      ],
      "execution_count": 2,
      "outputs": [
        {
          "output_type": "stream",
          "name": "stdout",
          "text": [
            ">> The page  loaded  correctly!\n"
          ]
        }
      ]
    },
    {
      "cell_type": "markdown",
      "metadata": {
        "id": "xVLAg1tp7aJX"
      },
      "source": [
        "# Set up the secret number"
      ]
    },
    {
      "cell_type": "markdown",
      "metadata": {
        "id": "2c12Csd440sV"
      },
      "source": [
        "You'll encode a secret number $s$ into a 4th or 5th degree polynomial as its vertical intercept.\n",
        "\n",
        "Once you've chosen $s$, then create a 4th or 5th degree polynomial $f$ such that the vertical intercept is $s$.\n"
      ]
    },
    {
      "cell_type": "code",
      "metadata": {
        "id": "bSeZFmS4vQWk",
        "colab": {
          "base_uri": "https://localhost:8080/",
          "height": 39
        },
        "outputId": "b0c59b0b-c8ad-419a-f8d8-ec4876f75596"
      },
      "source": [
        "# the secret number is s:\n",
        "\n",
        "s = 14\n",
        "\n",
        "p = Poly(14+2*x + 3*x**18, x, domain='RR')\n",
        "\n",
        "p"
      ],
      "execution_count": 3,
      "outputs": [
        {
          "output_type": "execute_result",
          "data": {
            "text/plain": [
              "Poly(3.0*x**18 + 2.0*x + 14.0, x, domain='RR')"
            ],
            "text/latex": "$\\displaystyle \\operatorname{Poly}{\\left( 3.0 x^{18} + 2.0 x + 14.0, x, domain=\\mathbb{R} \\right)}$"
          },
          "metadata": {},
          "execution_count": 3
        }
      ]
    },
    {
      "cell_type": "code",
      "metadata": {
        "id": "buHLWqEJ5Hds",
        "colab": {
          "base_uri": "https://localhost:8080/",
          "height": 37
        },
        "outputId": "4a29a794-7e09-47f3-bfc7-c4f14483cc33"
      },
      "source": [
        "#  Change this to evaluate the polynomial at 0:\n",
        "p.eval(x, 2.1)\n",
        "\n",
        "# Check that this is your secret number:"
      ],
      "execution_count": 4,
      "outputs": [
        {
          "output_type": "execute_result",
          "data": {
            "text/plain": [
              "1892660.57719015"
            ],
            "text/latex": "$\\displaystyle 1892660.57719015$"
          },
          "metadata": {},
          "execution_count": 4
        }
      ]
    },
    {
      "cell_type": "markdown",
      "metadata": {
        "id": "ls3V1Lrnyr2P"
      },
      "source": [
        "# Generate your data points\n",
        "\n",
        "Use this code to generate the data points for your polynomial.  Write the data on the second page of your handout.  \n",
        "\n",
        "Writing \n",
        "\n",
        "```\n",
        "p.eval(x, 3)\n",
        "```\n",
        "\n",
        "will evaluate $p$ when $x = 3$.  Just change the $3$ to any value to evaluate $p$ at that input.\n",
        "\n",
        "Remember:  Keep your secret number and polynomial hidden."
      ]
    },
    {
      "cell_type": "code",
      "metadata": {
        "id": "5Ef1euoHynYu",
        "colab": {
          "base_uri": "https://localhost:8080/",
          "height": 37
        },
        "outputId": "19c9e33f-2a06-4130-e684-14bb7849ea87"
      },
      "source": [
        "p.eval(x, 3)"
      ],
      "execution_count": 5,
      "outputs": [
        {
          "output_type": "execute_result",
          "data": {
            "text/plain": [
              "1162261487.00000"
            ],
            "text/latex": "$\\displaystyle 1162261487.0$"
          },
          "metadata": {},
          "execution_count": 5
        }
      ]
    },
    {
      "cell_type": "markdown",
      "metadata": {
        "id": "a6e9mXs-z3qV"
      },
      "source": [
        "#  Decode the polynomial from another group\n",
        "\n",
        "In this section, we set up a linear system to find the polynomial and the secret number which was given to us by another group.\n",
        "\n",
        "First, set up a linear algebra system to find the polynomial on the handout and then enter the matrix here.  You may have to adjust the size of the matrix below to accommodate your data."
      ]
    },
    {
      "cell_type": "code",
      "metadata": {
        "id": "aC4OSnZ20YDh",
        "colab": {
          "base_uri": "https://localhost:8080/"
        },
        "outputId": "188b68de-1b60-4460-8875-dc85969df3a0"
      },
      "source": [
        "# create the matrix:\n",
        "A = np.matrix([[4**5, 4**4, 4**3, 4**2, 4, 1],\n",
        "               [9**5, 9**4, 9**3, 9**2, 9, 1],\n",
        "               [2**5, 2**4, 2**3, 2**2, 2, 1],\n",
        "               [(-3)**5, (-3)**4, (-3)**3, (-3)**2, -3, 1],\n",
        "               [(-5)**5, (-5)**4, (-5)**3, (-5)**2, -5, 1],\n",
        "               [5**5, 5**4, 5**3, 5**2, 5, 1]])\n",
        " \n",
        "# create the vector for the right hand side:\n",
        "b = np.matrix([[20746.9], [1074960.4], [969.6], [-5965.6], [-64751.3], [60248.7]])\n",
        "\n",
        "#Make sure the system looks appropriate:\n",
        "\n",
        "print(np.c_[A,b])"
      ],
      "execution_count": 16,
      "outputs": [
        {
          "output_type": "stream",
          "name": "stdout",
          "text": [
            "[[ 1.0240000e+03  2.5600000e+02  6.4000000e+01  1.6000000e+01\n",
            "   4.0000000e+00  1.0000000e+00  2.0746900e+04]\n",
            " [ 5.9049000e+04  6.5610000e+03  7.2900000e+02  8.1000000e+01\n",
            "   9.0000000e+00  1.0000000e+00  1.0749604e+06]\n",
            " [ 3.2000000e+01  1.6000000e+01  8.0000000e+00  4.0000000e+00\n",
            "   2.0000000e+00  1.0000000e+00  9.6960000e+02]\n",
            " [-2.4300000e+02  8.1000000e+01 -2.7000000e+01  9.0000000e+00\n",
            "  -3.0000000e+00  1.0000000e+00 -5.9656000e+03]\n",
            " [-3.1250000e+03  6.2500000e+02 -1.2500000e+02  2.5000000e+01\n",
            "  -5.0000000e+00  1.0000000e+00 -6.4751300e+04]\n",
            " [ 3.1250000e+03  6.2500000e+02  1.2500000e+02  2.5000000e+01\n",
            "   5.0000000e+00  1.0000000e+00  6.0248700e+04]]\n"
          ]
        }
      ]
    },
    {
      "cell_type": "markdown",
      "metadata": {
        "id": "EDZT8emc5iGZ"
      },
      "source": [
        "##  Solve using Row Operations:\n",
        "\n",
        "We'll solve the augmented matrix  $\\left( A \\, | \\, \\vec{b} \\right)$ using the function\n",
        "\n",
        "```\n",
        "rref(np.c_[A,b])\n",
        "```\n",
        "\n",
        "to provide the reduced row echelon form of the matrix system $\\left(A \\, | \\, \\vec{b} \\right)$.\n"
      ]
    },
    {
      "cell_type": "code",
      "metadata": {
        "id": "9Qhe2zZjYAVL",
        "colab": {
          "base_uri": "https://localhost:8080/"
        },
        "outputId": "153b5e29-6a59-4ad0-baea-c3fece3a4941"
      },
      "source": [
        "print(rref(np.c_[A,b]))"
      ],
      "execution_count": 18,
      "outputs": [
        {
          "output_type": "stream",
          "name": "stdout",
          "text": [
            "[[ 1.00000000e+00  0.00000000e+00  0.00000000e+00  0.00000000e+00\n",
            "   0.00000000e+00  0.00000000e+00  1.80000021e+01]\n",
            " [ 0.00000000e+00  1.00000000e+00  0.00000000e+00  0.00000000e+00\n",
            "   0.00000000e+00  0.00000000e+00 -3.74161352e+00]\n",
            " [ 0.00000000e+00  0.00000000e+00  1.00000000e+00  0.00000000e+00\n",
            "   0.00000000e+00  0.00000000e+00  4.99995685e+01]\n",
            " [ 0.00000000e+00  0.00000000e+00  0.00000000e+00  1.00000000e+00\n",
            "   0.00000000e+00  0.00000000e+00  1.60753189e+00]\n",
            " [ 0.00000000e+00  0.00000000e+00  0.00000000e+00  0.00000000e+00\n",
            "   1.00000000e+00  0.00000000e+00  9.46003401e-03]\n",
            " [-0.00000000e+00 -0.00000000e+00 -0.00000000e+00 -0.00000000e+00\n",
            "  -0.00000000e+00  1.00000000e+00  4.70201531e+01]]\n"
          ]
        }
      ]
    },
    {
      "cell_type": "markdown",
      "metadata": {
        "id": "6xHgTqYr1fuP"
      },
      "source": [
        "## Solve the system using numerical methods:\n",
        "\n",
        "We can also generate a solution using some more advanced numerical linear algebra techniques contained inside Numpy.\n",
        "\n",
        "To solve it this way, use:\n",
        "\n",
        "\n",
        "\n",
        "```\n",
        "np.linalg.solve(A,b)\n",
        "```\n",
        "\n",
        "or\n",
        "\n",
        "```\n",
        "np.linalg.lstsq(A,b,rcond=None)\n",
        "```\n",
        "\n",
        "The first method requires the matrix $A$ to be square.  The second method is a bit more robust, and can work with any size matrix.\n"
      ]
    },
    {
      "cell_type": "code",
      "metadata": {
        "id": "769dXoztlBcx",
        "colab": {
          "base_uri": "https://localhost:8080/"
        },
        "outputId": "8e0c2fc7-2ff6-4dde-ede6-c55b55fd58a0"
      },
      "source": [
        "# Solve the system using a numerical linear algebra solution:\n",
        "solve_sol = np.linalg.solve(A,b)\n",
        "\n",
        "print(\"The solution using np.linalg.solve(A,b) is \")\n",
        "print(solve_sol)"
      ],
      "execution_count": 19,
      "outputs": [
        {
          "output_type": "stream",
          "name": "stdout",
          "text": [
            "The solution using np.linalg.solve(A,b) is \n",
            "[[ 1.80000021e+01]\n",
            " [-3.74161352e+00]\n",
            " [ 4.99995685e+01]\n",
            " [ 1.60753189e+00]\n",
            " [ 9.46003401e-03]\n",
            " [ 4.70201531e+01]]\n"
          ]
        }
      ]
    },
    {
      "cell_type": "code",
      "metadata": {
        "id": "ZEjNcqQvQbYo",
        "colab": {
          "base_uri": "https://localhost:8080/"
        },
        "outputId": "3e4964e4-9e0a-4127-e7fa-a1442b7dc872"
      },
      "source": [
        "# Solve the system using the numerical least squares method:\n",
        "lstsq_sol = np.linalg.lstsq(A,b,rcond=None)\n",
        "\n",
        "print(\"The np.linalg.lstsq(A,b) can work with non-square matrices A\")\n",
        "print(\"It gives back multiple pieces of information:\")\n",
        "print(\"lstsq_sol = \")\n",
        "print(lstsq_sol)\n",
        "\n",
        "print(\"\")\n",
        "print(\"The solution is first piece returned.  lstsq_sol[0] = \")\n",
        "print(lstsq_sol[0])\n"
      ],
      "execution_count": 20,
      "outputs": [
        {
          "output_type": "stream",
          "name": "stdout",
          "text": [
            "The np.linalg.lstsq(A,b) can work with non-square matrices A\n",
            "It gives back multiple pieces of information:\n",
            "lstsq_sol = \n",
            "(matrix([[ 1.80000021e+01],\n",
            "        [-3.74161352e+00],\n",
            "        [ 4.99995685e+01],\n",
            "        [ 1.60753189e+00],\n",
            "        [ 9.46003426e-03],\n",
            "        [ 4.70201531e+01]]), matrix([], shape=(1, 0), dtype=float64), 6, array([5.95889260e+04, 1.02219373e+03, 1.24370114e+02, 8.66982777e+00,\n",
            "       2.38999667e+00, 3.17171806e-01]))\n",
            "\n",
            "The solution is first piece returned.  lstsq_sol[0] = \n",
            "[[ 1.80000021e+01]\n",
            " [-3.74161352e+00]\n",
            " [ 4.99995685e+01]\n",
            " [ 1.60753189e+00]\n",
            " [ 9.46003426e-03]\n",
            " [ 4.70201531e+01]]\n"
          ]
        }
      ]
    },
    {
      "cell_type": "code",
      "source": [],
      "metadata": {
        "id": "g95XPHpwy_Re"
      },
      "execution_count": null,
      "outputs": []
    }
  ]
}